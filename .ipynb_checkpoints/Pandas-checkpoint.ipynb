{
 "cells": [
  {
   "cell_type": "markdown",
   "metadata": {},
   "source": [
    "# Code from channel Sentdex to practice Pandas"
   ]
  },
  {
   "cell_type": "code",
   "execution_count": 8,
   "metadata": {},
   "outputs": [],
   "source": [
    "\n",
    "import pandas as pd\n",
    "import matplotlib.pyplot as plt\n",
    "import numpy as np\n",
    "import datetime\n",
    "from matplotlib import style\n"
   ]
  },
  {
   "cell_type": "markdown",
   "metadata": {},
   "source": [
    "### A solution without changing any files locally and bypass the version control of your package manager (pip) is to define is_list_like like this:\n"
   ]
  },
  {
   "cell_type": "code",
   "execution_count": 9,
   "metadata": {},
   "outputs": [],
   "source": [
    "pd.core.common.is_list_like = pd.api.types.is_list_like\n"
   ]
  },
  {
   "cell_type": "code",
   "execution_count": 10,
   "metadata": {},
   "outputs": [],
   "source": [
    "from pandas_datareader import data\n",
    "import pandas_datareader.data as web\n",
    "style.use(\"ggplot\")"
   ]
  },
  {
   "cell_type": "code",
   "execution_count": 23,
   "metadata": {},
   "outputs": [],
   "source": [
    "start = datetime.datetime(2012 , 1, 1)\n",
    "end = datetime.datetime.now()\n",
    "df = data.DataReader('XOM', 'robinhood', start, end)"
   ]
  },
  {
   "cell_type": "code",
   "execution_count": 28,
   "metadata": {},
   "outputs": [
    {
     "data": {
      "text/html": [
       "<div>\n",
       "<style scoped>\n",
       "    .dataframe tbody tr th:only-of-type {\n",
       "        vertical-align: middle;\n",
       "    }\n",
       "\n",
       "    .dataframe tbody tr th {\n",
       "        vertical-align: top;\n",
       "    }\n",
       "\n",
       "    .dataframe thead th {\n",
       "        text-align: right;\n",
       "    }\n",
       "</style>\n",
       "<table border=\"1\" class=\"dataframe\">\n",
       "  <thead>\n",
       "    <tr style=\"text-align: right;\">\n",
       "      <th></th>\n",
       "      <th></th>\n",
       "      <th>close_price</th>\n",
       "      <th>high_price</th>\n",
       "      <th>interpolated</th>\n",
       "      <th>low_price</th>\n",
       "      <th>open_price</th>\n",
       "      <th>session</th>\n",
       "      <th>volume</th>\n",
       "    </tr>\n",
       "    <tr>\n",
       "      <th>symbol</th>\n",
       "      <th>begins_at</th>\n",
       "      <th></th>\n",
       "      <th></th>\n",
       "      <th></th>\n",
       "      <th></th>\n",
       "      <th></th>\n",
       "      <th></th>\n",
       "      <th></th>\n",
       "    </tr>\n",
       "  </thead>\n",
       "  <tbody>\n",
       "    <tr>\n",
       "      <th rowspan=\"10\" valign=\"top\">XOM</th>\n",
       "      <th>2017-08-14</th>\n",
       "      <td>75.958100</td>\n",
       "      <td>76.501900</td>\n",
       "      <td>False</td>\n",
       "      <td>75.851300</td>\n",
       "      <td>76.336800</td>\n",
       "      <td>reg</td>\n",
       "      <td>8862475</td>\n",
       "    </tr>\n",
       "    <tr>\n",
       "      <th>2017-08-15</th>\n",
       "      <td>75.773600</td>\n",
       "      <td>75.977500</td>\n",
       "      <td>False</td>\n",
       "      <td>75.424100</td>\n",
       "      <td>75.851300</td>\n",
       "      <td>reg</td>\n",
       "      <td>10350948</td>\n",
       "    </tr>\n",
       "    <tr>\n",
       "      <th>2017-08-16</th>\n",
       "      <td>75.220200</td>\n",
       "      <td>75.899900</td>\n",
       "      <td>False</td>\n",
       "      <td>75.064800</td>\n",
       "      <td>75.773600</td>\n",
       "      <td>reg</td>\n",
       "      <td>9117145</td>\n",
       "    </tr>\n",
       "    <tr>\n",
       "      <th>2017-08-17</th>\n",
       "      <td>74.045300</td>\n",
       "      <td>75.035700</td>\n",
       "      <td>False</td>\n",
       "      <td>73.996800</td>\n",
       "      <td>75.016300</td>\n",
       "      <td>reg</td>\n",
       "      <td>13400356</td>\n",
       "    </tr>\n",
       "    <tr>\n",
       "      <th>2017-08-18</th>\n",
       "      <td>74.414300</td>\n",
       "      <td>74.870600</td>\n",
       "      <td>False</td>\n",
       "      <td>73.841400</td>\n",
       "      <td>73.967700</td>\n",
       "      <td>reg</td>\n",
       "      <td>14324342</td>\n",
       "    </tr>\n",
       "    <tr>\n",
       "      <th>2017-08-21</th>\n",
       "      <td>74.161800</td>\n",
       "      <td>74.394900</td>\n",
       "      <td>False</td>\n",
       "      <td>73.870600</td>\n",
       "      <td>74.249200</td>\n",
       "      <td>reg</td>\n",
       "      <td>10084930</td>\n",
       "    </tr>\n",
       "    <tr>\n",
       "      <th>2017-08-22</th>\n",
       "      <td>74.511400</td>\n",
       "      <td>75.089100</td>\n",
       "      <td>False</td>\n",
       "      <td>74.307500</td>\n",
       "      <td>74.326900</td>\n",
       "      <td>reg</td>\n",
       "      <td>9503600</td>\n",
       "    </tr>\n",
       "    <tr>\n",
       "      <th>2017-08-23</th>\n",
       "      <td>74.385200</td>\n",
       "      <td>74.773600</td>\n",
       "      <td>False</td>\n",
       "      <td>74.249200</td>\n",
       "      <td>74.472600</td>\n",
       "      <td>reg</td>\n",
       "      <td>7054254</td>\n",
       "    </tr>\n",
       "    <tr>\n",
       "      <th>2017-08-24</th>\n",
       "      <td>74.113300</td>\n",
       "      <td>74.424000</td>\n",
       "      <td>False</td>\n",
       "      <td>73.987100</td>\n",
       "      <td>74.278400</td>\n",
       "      <td>reg</td>\n",
       "      <td>8678316</td>\n",
       "    </tr>\n",
       "    <tr>\n",
       "      <th>2017-08-25</th>\n",
       "      <td>74.492000</td>\n",
       "      <td>74.890100</td>\n",
       "      <td>False</td>\n",
       "      <td>74.210400</td>\n",
       "      <td>74.336600</td>\n",
       "      <td>reg</td>\n",
       "      <td>6844875</td>\n",
       "    </tr>\n",
       "  </tbody>\n",
       "</table>\n",
       "</div>"
      ],
      "text/plain": [
       "                  close_price high_price  interpolated  low_price open_price  \\\n",
       "symbol begins_at                                                               \n",
       "XOM    2017-08-14   75.958100  76.501900         False  75.851300  76.336800   \n",
       "       2017-08-15   75.773600  75.977500         False  75.424100  75.851300   \n",
       "       2017-08-16   75.220200  75.899900         False  75.064800  75.773600   \n",
       "       2017-08-17   74.045300  75.035700         False  73.996800  75.016300   \n",
       "       2017-08-18   74.414300  74.870600         False  73.841400  73.967700   \n",
       "       2017-08-21   74.161800  74.394900         False  73.870600  74.249200   \n",
       "       2017-08-22   74.511400  75.089100         False  74.307500  74.326900   \n",
       "       2017-08-23   74.385200  74.773600         False  74.249200  74.472600   \n",
       "       2017-08-24   74.113300  74.424000         False  73.987100  74.278400   \n",
       "       2017-08-25   74.492000  74.890100         False  74.210400  74.336600   \n",
       "\n",
       "                  session    volume  \n",
       "symbol begins_at                     \n",
       "XOM    2017-08-14     reg   8862475  \n",
       "       2017-08-15     reg  10350948  \n",
       "       2017-08-16     reg   9117145  \n",
       "       2017-08-17     reg  13400356  \n",
       "       2017-08-18     reg  14324342  \n",
       "       2017-08-21     reg  10084930  \n",
       "       2017-08-22     reg   9503600  \n",
       "       2017-08-23     reg   7054254  \n",
       "       2017-08-24     reg   8678316  \n",
       "       2017-08-25     reg   6844875  "
      ]
     },
     "execution_count": 28,
     "metadata": {},
     "output_type": "execute_result"
    }
   ],
   "source": [
    "df.head(10)"
   ]
  },
  {
   "cell_type": "code",
   "execution_count": 59,
   "metadata": {},
   "outputs": [],
   "source": [
    "df.session = df.session.astype(str)"
   ]
  },
  {
   "cell_type": "code",
   "execution_count": 60,
   "metadata": {},
   "outputs": [
    {
     "data": {
      "text/plain": [
       "close_price     float64\n",
       "high_price      float64\n",
       "interpolated       bool\n",
       "low_price       float64\n",
       "open_price      float64\n",
       "session          object\n",
       "volume            int64\n",
       "dtype: object"
      ]
     },
     "execution_count": 60,
     "metadata": {},
     "output_type": "execute_result"
    }
   ],
   "source": [
    "df.dtypes"
   ]
  },
  {
   "cell_type": "code",
   "execution_count": 63,
   "metadata": {},
   "outputs": [
    {
     "data": {
      "text/plain": [
       "<matplotlib.legend.Legend at 0x5f67290>"
      ]
     },
     "execution_count": 63,
     "metadata": {},
     "output_type": "execute_result"
    },
    {
     "data": {
      "image/png": "[encoded data removed]",
      "text/plain": [
       "<Figure size 432x288 with 1 Axes>"
      ]
     },
     "metadata": {},
     "output_type": "display_data"
    }
   ],
   "source": [
    "style.use('fivethirtyeight')\n",
    "df['high_price'].plot()\n",
    "plt.legend()"
   ]
  },
  {
   "cell_type": "markdown",
   "metadata": {},
   "source": [
    "\n",
    "\n",
    "\n",
    "### Since dataframe is basically a dictionary now we can play with it accordingly "
   ]
  },
  {
   "cell_type": "code",
   "execution_count": 80,
   "metadata": {},
   "outputs": [
    {
     "name": "stdout",
     "output_type": "stream",
     "text": [
      "symbol  begins_at \n",
      "XOM     2017-08-14    76.5019\n",
      "        2017-08-15    75.9775\n",
      "        2017-08-16    75.8999\n",
      "        2017-08-17    75.0357\n",
      "        2017-08-18    74.8706\n",
      "        2017-08-21    74.3949\n",
      "        2017-08-22    75.0891\n",
      "        2017-08-23    74.7736\n",
      "        2017-08-24    74.4240\n",
      "        2017-08-25    74.8901\n",
      "Name: high_price, dtype: float64\n"
     ]
    }
   ],
   "source": [
    "print(df[\"high_price\"][:10])"
   ]
  },
  {
   "cell_type": "markdown",
   "metadata": {},
   "source": [
    "### Here we convert it to a numpy array and try to manipulate it "
   ]
  },
  {
   "cell_type": "code",
   "execution_count": 107,
   "metadata": {},
   "outputs": [
    {
     "data": {
      "text/plain": [
       "array([[76.5019, 75.8513],\n",
       "       [75.9775, 75.4241],\n",
       "       [75.8999, 75.0648],\n",
       "       [75.0357, 73.9968],\n",
       "       [74.8706, 73.8414],\n",
       "       [74.3949, 73.8706],\n",
       "       [75.0891, 74.3075],\n",
       "       [74.7736, 74.2492],\n",
       "       [74.424 , 73.9871],\n",
       "       [74.8901, 74.2104],\n",
       "       [74.7056, 74.0453],\n",
       "       [74.2687, 73.8706],\n",
       "       [74.2298, 73.8511],\n",
       "       [74.2687, 73.8414],\n",
       "       [74.6182, 74.1036],\n",
       "       [75.1134, 74.3852],\n",
       "       [76.9242, 75.327 ],\n",
       "       [77.0261, 76.3271],\n",
       "       [76.7446, 76.3465],\n",
       "       [77.1136, 76.6087],\n",
       "       [77.3757, 76.9388],\n",
       "       [77.4534, 77.0747],\n",
       "       [77.9   , 77.4534],\n",
       "       [77.8806, 77.2398],\n",
       "       [77.8127, 77.3854],\n",
       "       [78.0554, 77.6622],\n",
       "       [78.3176, 77.9292],\n",
       "       [78.1913, 77.4437],\n",
       "       [77.968 , 77.3563],\n",
       "       [78.6477, 77.6573],\n",
       "       [78.6428, 78.2205],\n",
       "       [79.0846, 78.4438],\n",
       "       [80.0556, 79.1914],\n",
       "       [79.672 , 79.206 ],\n",
       "       [79.4429, 78.8856],\n",
       "       [79.5895, 78.939 ],\n",
       "       [79.4924, 79.0846],\n",
       "       [79.8517, 79.2205],\n",
       "       [79.5118, 78.9924],\n",
       "       [79.7934, 79.3856],\n",
       "       [80.3323, 79.706 ],\n",
       "       [80.3371, 79.7546],\n",
       "       [80.1041, 79.7837],\n",
       "       [80.6673, 79.9682],\n",
       "       [80.541 , 80.143 ],\n",
       "       [80.5605, 80.143 ],\n",
       "       [80.9692, 80.143 ],\n",
       "       [80.6381, 79.9391],\n",
       "       [80.7158, 80.2206],\n",
       "       [81.3275, 80.6285],\n",
       "       [81.3727, 80.8906],\n",
       "       [81.2984, 80.5377],\n",
       "       [81.2207, 80.6964],\n",
       "       [81.7936, 79.6283],\n",
       "       [81.512 , 80.9877],\n",
       "       [81.2499, 80.7547],\n",
       "       [81.5023, 80.842 ],\n",
       "       [81.2741, 80.5022],\n",
       "       [81.211 , 80.745 ],\n",
       "       [81.4343, 80.6479],\n",
       "       [81.3858, 80.6187],\n",
       "       [81.0751, 80.4537],\n",
       "       [81.6965, 80.6673],\n",
       "       [81.4138, 80.7671],\n",
       "       [81.4236, 80.9435],\n",
       "       [81.0905, 80.4437],\n",
       "       [80.4437, 79.5225],\n",
       "       [79.2286, 78.5377],\n",
       "       [79.0424, 78.5524],\n",
       "       [79.0228, 78.4054],\n",
       "       [79.6205, 79.0228],\n",
       "       [79.7725, 79.4245],\n",
       "       [80.0615, 79.5911],\n",
       "       [79.7675, 79.3951],\n",
       "       [80.3545, 79.6793],\n",
       "       [80.6593, 79.8459],\n",
       "       [81.7274, 80.7573],\n",
       "       [82.4428, 80.7573],\n",
       "       [82.4869, 81.3354],\n",
       "       [82.09  , 81.0513],\n",
       "       [81.5314, 80.5613],\n",
       "       [80.9631, 80.5221],\n",
       "       [81.2374, 80.6103],\n",
       "       [81.5804, 81.0807],\n",
       "       [81.7078, 81.0415],\n",
       "       [81.6294, 80.8259],\n",
       "       [81.6588, 81.2276],\n",
       "       [81.6098, 81.208 ],\n",
       "       [81.9963, 81.2472],\n",
       "       [81.502 , 80.6789],\n",
       "       [81.4726, 80.8652],\n",
       "       [82.58  , 81.2962],\n",
       "       [82.335 , 81.9234],\n",
       "       [82.6682, 82.2174],\n",
       "       [82.4134, 82.0606],\n",
       "       [82.3644, 82.1194],\n",
       "       [82.5114, 81.9626],\n",
       "       [83.4864, 81.9822],\n",
       "       [85.2209, 83.1189],\n",
       "       [85.4708, 84.6967],\n",
       "       [85.1376, 83.9862],\n",
       "       [85.4022, 84.8666],\n",
       "       [85.4022, 84.9122],\n",
       "       [85.4414, 84.2557],\n",
       "       [85.6178, 84.2067],\n",
       "       [86.2254, 85.4316],\n",
       "       [86.    , 84.8632],\n",
       "       [86.441 , 85.1866],\n",
       "       [86.4214, 85.5884],\n",
       "       [86.    , 84.873 ],\n",
       "       [86.5193, 85.3042],\n",
       "       [86.6859, 85.9804],\n",
       "       [87.1348, 86.245 ],\n",
       "       [87.0877, 86.4312],\n",
       "       [87.2151, 86.6957],\n",
       "       [87.5091, 86.1862],\n",
       "       [86.6075, 85.0396],\n",
       "       [85.7158, 84.5987],\n",
       "       [87.4601, 85.5982],\n",
       "       [84.2851, 81.3333],\n",
       "       [82.3056, 76.5631],\n",
       "       [78.7386, 75.3578],\n",
       "       [77.8174, 75.3774],\n",
       "       [76.0241, 74.5052],\n",
       "       [75.7126, 73.1585],\n",
       "       [76.8421, 75.08  ],\n",
       "       [75.9799, 74.9701],\n",
       "       [75.8908, 74.4108],\n",
       "       [75.9304, 74.6929],\n",
       "       [76.3462, 75.0889],\n",
       "       [76.6926, 74.7038],\n",
       "       [75.668 , 74.1187],\n",
       "       [76.069 , 74.4306],\n",
       "       [76.8411, 75.1879],\n",
       "       [78.138 , 76.7817],\n",
       "       [79.0686, 76.7223],\n",
       "       [77.4648, 74.9404],\n",
       "       [75.9114, 74.1039],\n",
       "       [75.1087, 73.7326],\n",
       "       [75.7918, 74.3672],\n",
       "       [76.2076, 75.0998],\n",
       "       [74.485 , 72.8219],\n",
       "       [74.0197, 72.9506],\n",
       "       [74.3068, 73.4654],\n",
       "       [74.8216, 73.9405],\n",
       "       [75.0592, 73.505 ],\n",
       "       [74.0395, 72.7922],\n",
       "       [74.2474, 73.3565],\n",
       "       [74.3662, 73.6139],\n",
       "       [74.2573, 73.1238],\n",
       "       [73.9504, 73.208 ],\n",
       "       [74.881 , 73.2377],\n",
       "       [73.9504, 72.6536],\n",
       "       [73.4654, 71.9408],\n",
       "       [73.406 , 72.0248],\n",
       "       [74.1434, 72.5397],\n",
       "       [73.2674, 72.0497],\n",
       "       [74.1385, 72.5249],\n",
       "       [73.6535, 71.431 ],\n",
       "       [74.386 , 72.3665],\n",
       "       [74.3068, 72.7031],\n",
       "       [75.5542, 74.2672],\n",
       "       [75.3562, 73.4703],\n",
       "       [75.0295, 74.0494],\n",
       "       [76.9896, 75.2968],\n",
       "       [77.2569, 75.9799],\n",
       "       [77.351 , 76.2323],\n",
       "       [77.4054, 76.8213],\n",
       "       [78.2914, 76.9302],\n",
       "       [77.9697, 77.2569],\n",
       "       [78.9597, 78.1479],\n",
       "       [79.0191, 78.0192],\n",
       "       [78.6033, 77.549 ],\n",
       "       [78.8013, 77.9598],\n",
       "       [79.128 , 77.1876],\n",
       "       [78.8211, 76.7075],\n",
       "       [80.0882, 78.732 ],\n",
       "       [77.8608, 75.7126],\n",
       "       [77.7717, 76.9599],\n",
       "       [76.4848, 75.2176],\n",
       "       [76.4551, 75.5344],\n",
       "       [75.8363, 74.6472],\n",
       "       [76.4452, 75.178 ],\n",
       "       [78.2865, 76.6233],\n",
       "       [77.3757, 75.6037],\n",
       "       [79.4349, 78.1578],\n",
       "       [80.9693, 79.6922],\n",
       "       [81.97  , 80.91  ],\n",
       "       [82.3232, 81.61  ],\n",
       "       [82.03  , 81.4   ],\n",
       "       [82.045 , 81.17  ],\n",
       "       [82.28  , 81.44  ],\n",
       "       [81.8   , 81.26  ],\n",
       "       [82.35  , 81.52  ],\n",
       "       [82.65  , 81.35  ],\n",
       "       [82.23  , 80.57  ],\n",
       "       [81.36  , 79.95  ],\n",
       "       [79.33  , 78.09  ],\n",
       "       [78.73  , 77.53  ],\n",
       "       [81.66  , 79.22  ],\n",
       "       [81.55  , 80.69  ],\n",
       "       [82.35  , 81.55  ],\n",
       "       [82.53  , 80.805 ],\n",
       "       [81.65  , 80.41  ],\n",
       "       [82.09  , 80.87  ],\n",
       "       [83.29  , 82.56  ],\n",
       "       [83.66  , 82.5   ],\n",
       "       [83.79  , 82.93  ],\n",
       "       [83.75  , 82.32  ],\n",
       "       [82.6   , 81.47  ],\n",
       "       [82.2999, 81.5   ],\n",
       "       [81.82  , 80.51  ],\n",
       "       [81.38  , 80.3   ],\n",
       "       [80.9601, 79.71  ],\n",
       "       [81.13  , 80.27  ],\n",
       "       [80.38  , 79.325 ],\n",
       "       [81.9401, 80.92  ],\n",
       "       [81.24  , 79.3   ],\n",
       "       [81.0146, 79.97  ],\n",
       "       [82.48  , 81.06  ],\n",
       "       [82.07  , 81.03  ],\n",
       "       [83.54  , 82.29  ],\n",
       "       [82.13  , 81.32  ],\n",
       "       [83.45  , 82.08  ],\n",
       "       [82.77  , 82.05  ],\n",
       "       [82.7   , 81.66  ],\n",
       "       [83.125 , 82.555 ],\n",
       "       [84.12  , 83.51  ],\n",
       "       [83.53  , 82.025 ],\n",
       "       [83.24  , 82.31  ],\n",
       "       [83.75  , 82.56  ],\n",
       "       [82.79  , 82.    ],\n",
       "       [82.75  , 82.04  ],\n",
       "       [82.32  , 81.49  ],\n",
       "       [82.62  , 81.72  ],\n",
       "       [81.9332, 81.25  ],\n",
       "       [82.    , 81.18  ],\n",
       "       [83.02  , 81.48  ],\n",
       "       [83.74  , 82.51  ],\n",
       "       [84.4   , 83.37  ],\n",
       "       [82.38  , 80.805 ],\n",
       "       [82.13  , 80.711 ],\n",
       "       [82.15  , 81.44  ],\n",
       "       [80.93  , 80.225 ],\n",
       "       [80.255 , 79.45  ],\n",
       "       [80.3   , 79.63  ],\n",
       "       [80.43  , 79.74  ],\n",
       "       [81.59  , 80.31  ],\n",
       "       [81.23  , 80.35  ],\n",
       "       [80.905 , 80.11  ],\n",
       "       [79.524 , 78.855 ],\n",
       "       [79.75  , 78.43  ]])"
      ]
     },
     "execution_count": 107,
     "metadata": {},
     "output_type": "execute_result"
    }
   ],
   "source": [
    "np_price = (np.array(df[[\"high_price\", \"low_price\"]]))\n",
    "np_price"
   ]
  },
  {
   "cell_type": "code",
   "execution_count": 120,
   "metadata": {},
   "outputs": [
    {
     "data": {
      "text/plain": [
       "(252, 2)"
      ]
     },
     "execution_count": 120,
     "metadata": {},
     "output_type": "execute_result"
    }
   ],
   "source": [
    "np_price.shape"
   ]
  },
  {
   "cell_type": "code",
   "execution_count": 145,
   "metadata": {},
   "outputs": [
    {
     "data": {
      "text/plain": [
       "array([76.5019, 75.9775, 75.8999, 75.0357, 74.8706, 74.3949, 75.0891,\n",
       "       74.7736, 74.424 , 74.8901, 74.7056, 74.2687, 74.2298, 74.2687,\n",
       "       74.6182, 75.1134, 76.9242, 77.0261, 76.7446, 77.1136, 77.3757,\n",
       "       77.4534, 77.9   , 77.8806, 77.8127, 78.0554, 78.3176, 78.1913,\n",
       "       77.968 , 78.6477, 78.6428, 79.0846, 80.0556, 79.672 , 79.4429,\n",
       "       79.5895, 79.4924, 79.8517, 79.5118, 79.7934, 80.3323, 80.3371,\n",
       "       80.1041, 80.6673, 80.541 , 80.5605, 80.9692, 80.6381, 80.7158,\n",
       "       81.3275, 81.3727, 81.2984, 81.2207, 81.7936, 81.512 , 81.2499,\n",
       "       81.5023, 81.2741, 81.211 , 81.4343, 81.3858, 81.0751, 81.6965,\n",
       "       81.4138, 81.4236, 81.0905, 80.4437, 79.2286, 79.0424, 79.0228,\n",
       "       79.6205, 79.7725, 80.0615, 79.7675, 80.3545, 80.6593, 81.7274,\n",
       "       82.4428, 82.4869, 82.09  , 81.5314, 80.9631, 81.2374, 81.5804,\n",
       "       81.7078, 81.6294, 81.6588, 81.6098, 81.9963, 81.502 , 81.4726,\n",
       "       82.58  , 82.335 , 82.6682, 82.4134, 82.3644, 82.5114, 83.4864,\n",
       "       85.2209, 85.4708, 85.1376, 85.4022, 85.4022, 85.4414, 85.6178,\n",
       "       86.2254, 86.    , 86.441 , 86.4214, 86.    , 86.5193, 86.6859,\n",
       "       87.1348, 87.0877, 87.2151, 87.5091, 86.6075, 85.7158, 87.4601,\n",
       "       84.2851, 82.3056, 78.7386, 77.8174, 76.0241, 75.7126, 76.8421,\n",
       "       75.9799, 75.8908, 75.9304, 76.3462, 76.6926, 75.668 , 76.069 ,\n",
       "       76.8411, 78.138 , 79.0686, 77.4648, 75.9114, 75.1087, 75.7918,\n",
       "       76.2076, 74.485 , 74.0197, 74.3068, 74.8216, 75.0592, 74.0395,\n",
       "       74.2474, 74.3662, 74.2573, 73.9504, 74.881 , 73.9504, 73.4654,\n",
       "       73.406 , 74.1434, 73.2674, 74.1385, 73.6535, 74.386 , 74.3068,\n",
       "       75.5542, 75.3562, 75.0295, 76.9896, 77.2569, 77.351 , 77.4054,\n",
       "       78.2914, 77.9697, 78.9597, 79.0191, 78.6033, 78.8013, 79.128 ,\n",
       "       78.8211, 80.0882, 77.8608, 77.7717, 76.4848, 76.4551, 75.8363,\n",
       "       76.4452, 78.2865, 77.3757, 79.4349, 80.9693, 81.97  , 82.3232,\n",
       "       82.03  , 82.045 , 82.28  , 81.8   , 82.35  , 82.65  , 82.23  ,\n",
       "       81.36  , 79.33  , 78.73  , 81.66  , 81.55  , 82.35  , 82.53  ,\n",
       "       81.65  , 82.09  , 83.29  , 83.66  , 83.79  , 83.75  , 82.6   ,\n",
       "       82.2999, 81.82  , 81.38  , 80.9601, 81.13  , 80.38  , 81.9401,\n",
       "       81.24  , 81.0146, 82.48  , 82.07  , 83.54  , 82.13  , 83.45  ,\n",
       "       82.77  , 82.7   , 83.125 , 84.12  , 83.53  , 83.24  , 83.75  ,\n",
       "       82.79  , 82.75  , 82.32  , 82.62  , 81.9332, 82.    , 83.02  ,\n",
       "       83.74  , 84.4   , 82.38  , 82.13  , 82.15  , 80.93  , 80.255 ,\n",
       "       80.3   , 80.43  , 81.59  , 81.23  , 80.905 , 79.524 , 79.75  ])"
      ]
     },
     "execution_count": 145,
     "metadata": {},
     "output_type": "execute_result"
    }
   ],
   "source": [
    "np_low = np_price[:,1]\n",
    "np_high = np_price[:,0]\n",
    "np_high\n"
   ]
  },
  {
   "cell_type": "code",
   "execution_count": 150,
   "metadata": {},
   "outputs": [
    {
     "name": "stdout",
     "output_type": "stream",
     "text": [
      "mean: 79.92145476190476\n",
      "mode: 80.55075\n"
     ]
    }
   ],
   "source": [
    "print(\"mean: \" + str(np.mean(np_high)) \n",
    "        + \"\\nmode: \" + str(np.median(np_high)))"
   ]
  },
  {
   "cell_type": "code",
   "execution_count": 146,
   "metadata": {},
   "outputs": [
    {
     "data": {
      "text/plain": [
       "(array([23., 26., 21., 22., 31., 52., 42., 14., 10., 11.]),\n",
       " array([73.2674 , 74.69157, 76.11574, 77.53991, 78.96408, 80.38825,\n",
       "        81.81242, 83.23659, 84.66076, 86.08493, 87.5091 ]),\n",
       " <a list of 10 Patch objects>)"
      ]
     },
     "execution_count": 146,
     "metadata": {},
     "output_type": "execute_result"
    },
    {
     "data": {
      "image/png": "[encoded data removed]",
      "text/plain": [
       "<Figure size 432x288 with 1 Axes>"
      ]
     },
     "metadata": {},
     "output_type": "display_data"
    }
   ],
   "source": [
    "plt.hist(np_high, ec = \"k\")"
   ]
  },
  {
   "cell_type": "code",
   "execution_count": 152,
   "metadata": {},
   "outputs": [
    {
     "name": "stdout",
     "output_type": "stream",
     "text": [
      "mean: 78.887048015873\n",
      "mode: 79.6991\n"
     ]
    },
    {
     "data": {
      "text/plain": [
       "(array([12., 31., 23., 22., 21., 46., 63., 14., 10., 10.]),\n",
       " array([71.431  , 72.95747, 74.48394, 76.01041, 77.53688, 79.06335,\n",
       "        80.58982, 82.11629, 83.64276, 85.16923, 86.6957 ]),\n",
       " <a list of 10 Patch objects>)"
      ]
     },
     "execution_count": 152,
     "metadata": {},
     "output_type": "execute_result"
    },
    {
     "data": {
      "image/png": "[encoded data removed]",
      "text/plain": [
       "<Figure size 432x288 with 1 Axes>"
      ]
     },
     "metadata": {},
     "output_type": "display_data"
    }
   ],
   "source": [
    "print(\"mean: \" + str(np.mean(np_low)) \n",
    "        + \"\\nmode: \" + str(np.median(np_low)))\n",
    "plt.hist(np_low, ec = \"k\", color =\"red\")"
   ]
  },
  {
   "cell_type": "code",
   "execution_count": null,
   "metadata": {},
   "outputs": [],
   "source": []
  }
 ],
 "metadata": {
  "kernelspec": {
   "display_name": "Python 3",
   "language": "python",
   "name": "python3"
  },
  "language_info": {
   "codemirror_mode": {
    "name": "ipython",
    "version": 3
   },
   "file_extension": ".py",
   "mimetype": "text/x-python",
   "name": "python",
   "nbconvert_exporter": "python",
   "pygments_lexer": "ipython3",
   "version": "3.6.5"
  }
 },
 "nbformat": 4,
 "nbformat_minor": 2
}
