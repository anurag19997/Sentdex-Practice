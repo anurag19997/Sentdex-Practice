{
 "cells": [
  {
   "cell_type": "code",
   "execution_count": null,
   "metadata": {},
   "outputs": [],
   "source": [
    "import pandas as pd\n",
    "import quandl as qd\n",
    "import numpy as np\n",
    "import html5lib \n",
    "import bs4\n",
    "import pickle\n",
    "import matplotlib.pyplot as plt\n",
    "from matplotlib import style\n",
    "style.use('ggplot')\n",
    "import mpld3  #This is to make graph interactive\n",
    "mpld3.enable_notebook()\n",
    "# %matplotlib inline\n",
    "\n"
   ]
  },
  {
   "cell_type": "code",
   "execution_count": 2,
   "metadata": {},
   "outputs": [],
   "source": [
    "api_key = open(\"api_key_quandl.txt\", \"r\").read()\n",
    "\n"
   ]
  },
  {
   "cell_type": "code",
   "execution_count": null,
   "metadata": {},
   "outputs": [],
   "source": [
    "def state_list():\n",
    "    fiddy_states = pd.read_html(\"https://simple.wikipedia.org/wiki/List_of_U.S._states\")\n",
    "    np_fiddy_states = np.array(fiddy_states[0]) \n",
    "    return np_fiddy_states[1:,1]    \n",
    "\n",
    "def grab_initial_state_data():\n",
    "    main_df = pd.DataFrame()\n",
    "    for abv in state_list():\n",
    "        query = \"FMAC/HPI_\" + abv\n",
    "        df = qd.get(query, authtoken = api_key)\n",
    "        df.rename(columns = {\"Value\":abv}, inplace = True) #If you remove this line an error will occur you can check that out\n",
    "        if main_df.empty:\n",
    "            main_df = df\n",
    "        else:\n",
    "            main_df = main_df.join(df)\n",
    "            # This is pyhton way of pickling\n",
    "#     pickle_out = open(\"fiddy_states.pickle\", \"wb\")\n",
    "#     pickle.dump(main_df, pickle_out)\n",
    "#     pickle_out.close()\n",
    "            # This is pandas way of pickling  \n",
    "#       main_df.to_pickle('pickle.pickle')  \n",
    "grab_initial_state_data()\n",
    "\n"
   ]
  },
  {
   "cell_type": "code",
   "execution_count": null,
   "metadata": {},
   "outputs": [],
   "source": [
    "HPI_data = pd.read_pickle('pickle.pickle')\n",
    "HPI_data.pct_change().plot()\n",
    "plt.legend().remove()\n",
    "\n",
    "#### In the above graph the percent change is measured from any aribitary value so we will tweak the code so that it is measured from the starting value"
   ]
  },
  {
   "cell_type": "code",
   "execution_count": null,
   "metadata": {},
   "outputs": [],
   "source": [
    "HPI_data = pd.read_pickle('pickle.pickle')\n",
    "def percent_change_from_start():\n",
    "    HPI_pct_change_data = pd.DataFrame()\n",
    "    for abv in HPI_data:\n",
    "        # substracting some number from a DataFrame leads to substracting that number from each element of the DataFrame\n",
    "        HPI_pct_change_data[abv] = ((HPI_data[abv] - HPI_data[abv][0]) * 100)/ HPI_data[abv][0]\n",
    "    return HPI_pct_change_data\n",
    "HPI_pct_change_data = percent_change_from_start()\n",
    "HPI_pct_change_data.to_pickle('fiddy_states3.pickle')\n",
    "\n",
    "HPI_pct_change_data = pd.read_pickle('fiddy_states3.pickle')\n",
    "HPI_pct_change_data.plot()\n",
    "plt.legend().remove()\n",
    "\n",
    "### Now we will benchmark it against USA HPI\n",
    "\n",
    "def HPI_benchmark():\n",
    "    benchmark = qd.get(\"FMAC/HPI_USA\", authtoken = api_key)\n",
    "    benchmark['Value'] = ((benchmark['Value'] - benchmark['Value'][0]) * 100) / benchmark['Value'][0]\n",
    "    return benchmark\n",
    "\n",
    "benchmark = HPI_benchmark()\n",
    "benchmark.head(10)\n",
    "\n",
    "fig = plt.figure()\n",
    "ax1 = plt.subplot2grid((1,1), (0,0))\n",
    "HPI_pct_change_data = pd.read_pickle('fiddy_states3.pickle')\n",
    "HPI_pct_change_data.plot(ax = ax1)\n",
    "\n",
    "benchmark = HPI_benchmark()\n",
    "benchmark.plot(ax = ax1, color = 'k', linewidth = 6)\n",
    "\n",
    "plt.legend().remove()\n"
   ]
  },
  {
   "cell_type": "code",
   "execution_count": null,
   "metadata": {},
   "outputs": [],
   "source": [
    "HPI_pct_change_data = pd.read_pickle('fiddy_states3.pickle')\n",
    "# print(HPI_pct_change_data)\n",
    "HPI_correlation =  HPI_pct_change_data.corr()\n",
    "print(HPI_correlation)\n",
    "\n",
    "HPI_correlation.describe()"
   ]
  }
 ],
 "metadata": {
  "kernelspec": {
   "display_name": "Python 3",
   "language": "python",
   "name": "python3"
  },
  "language_info": {
   "codemirror_mode": {
    "name": "ipython",
    "version": 3
   },
   "file_extension": ".py",
   "mimetype": "text/x-python",
   "name": "python",
   "nbconvert_exporter": "python",
   "pygments_lexer": "ipython3",
   "version": "3.6.5"
  }
 },
 "nbformat": 4,
 "nbformat_minor": 2
}
